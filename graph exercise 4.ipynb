{
 "cells": [
  {
   "cell_type": "markdown",
   "source": [
    "<h3>Question 1</h3>"
   ],
   "metadata": {}
  },
  {
   "cell_type": "markdown",
   "source": [
    "<p>The best values of x and y are x=0 and y=20, meaning all money should be spent reducing the probability of transmission. The working for this can be seen below where the average number of contacts infected by each infected person is calculated. This is also known as the basic reproductive number and as the model is that of a simple branching process, we can calculate this as the probabilty of transmission x the number of contacts met by an infected person during their contagious period. We wish to minimise this value in order to minimise the spread of the disease (as a basic reproductive number less than 1 in the branching process means the disease can only spread for a finite number of waves), and we find the optimal value to be 0.8 when x=0 and y=20. In order to further prove this, a simple simulation was conducted beginning with 1 infected person and infecting each of 40-x/2 contacts with probability 0.04-y/1000 per infected person per wave, with 25 waves in total. The percentage of the total population to become infected was then measured, and the minimal value was found to be 2.46% of the population at x=0 and y=20. In this case the simulation was run 10 times per combination of x and y values to ensure average values were used instead of potential outliers.</p>"
   ],
   "metadata": {}
  },
  {
   "cell_type": "code",
   "execution_count": 22,
   "source": [
    "#initialise variables\r\n",
    "min_val = 100\r\n",
    "bestx = 0\r\n",
    "besty = 0\r\n",
    "#calculate for all possible x,y where x+y = 20\r\n",
    "for x in range(21):\r\n",
    "    for y in range(21):\r\n",
    "        if x+y == 20:\r\n",
    "            first_method = 40-(x/2)\r\n",
    "            second_method = 0.04-(y/1000)\r\n",
    "            #calculate average number of contacts infected per person\r\n",
    "            proportion = round(first_method*second_method,2)\r\n",
    "            #find minimal value\r\n",
    "            if proportion<min_val:\r\n",
    "                min_val = proportion\r\n",
    "                bestx = x\r\n",
    "                besty = y\r\n",
    "            print(\"x:\",x,\"y:\",y,\"average number of contacts infected by 1 person:\",proportion)\r\n",
    "print(\"minimal contacts infected per person:\",min_val,\", best x value:\",bestx,\", best y value:\",besty)"
   ],
   "outputs": [
    {
     "output_type": "stream",
     "name": "stdout",
     "text": [
      "x: 0 y: 20 average number of contacts infected by 1 person: 0.8\n",
      "x: 1 y: 19 average number of contacts infected by 1 person: 0.83\n",
      "x: 2 y: 18 average number of contacts infected by 1 person: 0.86\n",
      "x: 3 y: 17 average number of contacts infected by 1 person: 0.89\n",
      "x: 4 y: 16 average number of contacts infected by 1 person: 0.91\n",
      "x: 5 y: 15 average number of contacts infected by 1 person: 0.94\n",
      "x: 6 y: 14 average number of contacts infected by 1 person: 0.96\n",
      "x: 7 y: 13 average number of contacts infected by 1 person: 0.99\n",
      "x: 8 y: 12 average number of contacts infected by 1 person: 1.01\n",
      "x: 9 y: 11 average number of contacts infected by 1 person: 1.03\n",
      "x: 10 y: 10 average number of contacts infected by 1 person: 1.05\n",
      "x: 11 y: 9 average number of contacts infected by 1 person: 1.07\n",
      "x: 12 y: 8 average number of contacts infected by 1 person: 1.09\n",
      "x: 13 y: 7 average number of contacts infected by 1 person: 1.11\n",
      "x: 14 y: 6 average number of contacts infected by 1 person: 1.12\n",
      "x: 15 y: 5 average number of contacts infected by 1 person: 1.14\n",
      "x: 16 y: 4 average number of contacts infected by 1 person: 1.15\n",
      "x: 17 y: 3 average number of contacts infected by 1 person: 1.17\n",
      "x: 18 y: 2 average number of contacts infected by 1 person: 1.18\n",
      "x: 19 y: 1 average number of contacts infected by 1 person: 1.19\n",
      "x: 20 y: 0 average number of contacts infected by 1 person: 1.2\n",
      "minimal contacts infected per person: 0.8 , best x value: 0 , best y value: 20\n"
     ]
    }
   ],
   "metadata": {}
  },
  {
   "cell_type": "code",
   "execution_count": 24,
   "source": [
    "import random\n",
    "\n",
    "#simple simulation of outbreak\n",
    "def simulation(first,second):\n",
    "    #initialise variables\n",
    "    total_infected = 1\n",
    "    total_people = 1\n",
    "    wave_population = 1\n",
    "    #go through 25 waves of infection\n",
    "    for i in range(25):\n",
    "        wave_infected = 0\n",
    "        #look at contacts of all infected in last wave\n",
    "        for j in range(wave_population):\n",
    "            contact_infected = 0\n",
    "            for k in range(round(first)):\n",
    "                total_people+=1\n",
    "                prob = random.uniform(0,1)\n",
    "                #infect contact with probability p\n",
    "                if prob<=second:\n",
    "                    contact_infected+=1\n",
    "            wave_infected+=contact_infected\n",
    "        #keep track of those infected\n",
    "        wave_population = wave_infected\n",
    "        total_infected += wave_infected\n",
    "    #return % of total people in simulation who were infected\n",
    "    proportion_infected = round((total_infected/total_people)*100,2)\n",
    "    return proportion_infected\n",
    "\n",
    "#initialise variables\n",
    "min_val = 100\n",
    "bestx = 0\n",
    "besty = 0\n",
    "\n",
    "#run simulation for every x,y where x+y = 20\n",
    "for x in range(21):\n",
    "    for y in range(21):\n",
    "        if x+y == 20:\n",
    "            first_method = 40-(x/2)\n",
    "            second_method = 0.04-(y/1000)\n",
    "            total = 0\n",
    "            #run simulations 10 times for average to ensure not outlier\n",
    "            for i in range(10):\n",
    "                proportion_infected = simulation(first_method,second_method)\n",
    "                total+=proportion_infected\n",
    "            average = round(total/10,2)\n",
    "            print(\"x:\",x,\"y:\",y,\"percentage of population infected:\",average,\"%\")\n",
    "            #find minimal proportion infected\n",
    "            if average<min_val:\n",
    "                min_val = average\n",
    "                bestx = x\n",
    "                besty = y\n",
    "print(\"minimal percentage of population infected:\",min_val,\"%, best x value:\",bestx,\", best y value:\",besty)"
   ],
   "outputs": [
    {
     "output_type": "stream",
     "name": "stdout",
     "text": [
      "x: 0 y: 20 percentage of population infected: 2.46 %\n",
      "x: 1 y: 19 percentage of population infected: 2.46 %\n",
      "x: 2 y: 18 percentage of population infected: 2.52 %\n",
      "x: 3 y: 17 percentage of population infected: 2.64 %\n",
      "x: 4 y: 16 percentage of population infected: 2.61 %\n",
      "x: 5 y: 15 percentage of population infected: 2.57 %\n",
      "x: 6 y: 14 percentage of population infected: 2.68 %\n",
      "x: 7 y: 13 percentage of population infected: 2.74 %\n",
      "x: 8 y: 12 percentage of population infected: 2.76 %\n",
      "x: 9 y: 11 percentage of population infected: 2.78 %\n",
      "x: 10 y: 10 percentage of population infected: 2.83 %\n",
      "x: 11 y: 9 percentage of population infected: 2.91 %\n",
      "x: 12 y: 8 percentage of population infected: 2.98 %\n",
      "x: 13 y: 7 percentage of population infected: 3.11 %\n",
      "x: 14 y: 6 percentage of population infected: 3.05 %\n",
      "x: 15 y: 5 percentage of population infected: 3.19 %\n",
      "x: 16 y: 4 percentage of population infected: 3.15 %\n",
      "x: 17 y: 3 percentage of population infected: 3.37 %\n",
      "x: 18 y: 2 percentage of population infected: 3.18 %\n",
      "x: 19 y: 1 percentage of population infected: 3.4 %\n",
      "x: 20 y: 0 percentage of population infected: 3.47 %\n",
      "minimal percentage of population infected: 2.46 %, best x value: 0 , best y value: 20\n"
     ]
    }
   ],
   "metadata": {}
  },
  {
   "cell_type": "code",
   "execution_count": null,
   "source": [],
   "outputs": [],
   "metadata": {}
  }
 ],
 "metadata": {
  "kernelspec": {
   "display_name": "Python 3",
   "language": "python",
   "name": "python3"
  },
  "language_info": {
   "codemirror_mode": {
    "name": "ipython",
    "version": 3
   },
   "file_extension": ".py",
   "mimetype": "text/x-python",
   "name": "python",
   "nbconvert_exporter": "python",
   "pygments_lexer": "ipython3",
   "version": "3.8.3"
  }
 },
 "nbformat": 4,
 "nbformat_minor": 4
}